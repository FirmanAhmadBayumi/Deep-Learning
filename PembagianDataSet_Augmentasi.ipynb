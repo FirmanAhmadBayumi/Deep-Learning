{
  "nbformat": 4,
  "nbformat_minor": 0,
  "metadata": {
    "colab": {
      "provenance": [],
      "mount_file_id": "1uqGRi9YU1c64xQWd0tHxAx23_kHH_566",
      "authorship_tag": "ABX9TyMJlzYVb0jxk3d9rT7end0J",
      "include_colab_link": true
    },
    "kernelspec": {
      "name": "python3",
      "display_name": "Python 3"
    },
    "language_info": {
      "name": "python"
    }
  },
  "cells": [
    {
      "cell_type": "markdown",
      "metadata": {
        "id": "view-in-github",
        "colab_type": "text"
      },
      "source": [
        "<a href=\"https://colab.research.google.com/github/FirmanAhmadBayumi/Deep-Learning/blob/main/PembagianDataSet_Augmentasi.ipynb\" target=\"_parent\"><img src=\"https://colab.research.google.com/assets/colab-badge.svg\" alt=\"Open In Colab\"/></a>"
      ]
    },
    {
      "cell_type": "code",
      "source": [
        "from google.colab import drive\n",
        "drive.mount('/content/drive')"
      ],
      "metadata": {
        "colab": {
          "base_uri": "https://localhost:8080/"
        },
        "id": "FqPZqvBeMIO_",
        "outputId": "ec5e3c70-ec7a-4114-e50c-80efbb13c8f1"
      },
      "execution_count": 1,
      "outputs": [
        {
          "output_type": "stream",
          "name": "stdout",
          "text": [
            "Drive already mounted at /content/drive; to attempt to forcibly remount, call drive.mount(\"/content/drive\", force_remount=True).\n"
          ]
        }
      ]
    },
    {
      "cell_type": "code",
      "execution_count": 2,
      "metadata": {
        "id": "LOhclJIUKb_Q"
      },
      "outputs": [],
      "source": [
        "import os\n",
        "import cv2\n",
        "import numpy as np\n",
        "import shutil\n",
        "from tensorflow.keras.preprocessing.image import ImageDataGenerator\n",
        "from tqdm import tqdm"
      ]
    },
    {
      "cell_type": "code",
      "source": [
        "# Define the base directory where all images are stored\n",
        "BASE_DIR = '/content/drive/MyDrive/Computer Vision/NonAugmented'\n",
        "AUG_DIR = '/content/drive/MyDrive/Computer Vision/Augmented'\n",
        "\n",
        "train_dir = os.path.join(BASE_DIR, 'train')\n",
        "val_dir = os.path.join(BASE_DIR, 'validation')\n",
        "test_dir = os.path.join(BASE_DIR, 'test')\n",
        "\n",
        "aug_train_dir = os.path.join(AUG_DIR, 'train')\n",
        "aug_val_dir = os.path.join(AUG_DIR, 'validation')\n",
        "aug_test_dir = os.path.join(AUG_DIR, 'test')"
      ],
      "metadata": {
        "id": "AUg1Kn8eK8dA"
      },
      "execution_count": 3,
      "outputs": []
    },
    {
      "cell_type": "code",
      "source": [
        "IMG_SIZE = (299, 299)\n",
        "\n",
        "# Create directories if not exist\n",
        "os.makedirs(aug_train_dir, exist_ok=True)\n",
        "os.makedirs(aug_val_dir, exist_ok=True)\n",
        "os.makedirs(aug_test_dir, exist_ok=True)"
      ],
      "metadata": {
        "id": "oU0Xuj16O7Zm"
      },
      "execution_count": 4,
      "outputs": []
    },
    {
      "cell_type": "code",
      "source": [
        "# Define data augmentation generator\n",
        "data_gen = ImageDataGenerator(\n",
        "    rotation_range=20,\n",
        "    width_shift_range=0.2,\n",
        "    height_shift_range=0.2,\n",
        "    shear_range=0.2,\n",
        "    zoom_range=0.2,\n",
        "    horizontal_flip=True,\n",
        "    fill_mode='nearest'\n",
        ")"
      ],
      "metadata": {
        "id": "CZhDk-gRPH3x"
      },
      "execution_count": 5,
      "outputs": []
    },
    {
      "cell_type": "code",
      "source": [
        "def copy_and_augment_data(src_dir, dest_dir, img_size, data_gen, save_prefix='aug', num_augmented=2):\n",
        "    class_names = os.listdir(src_dir)\n",
        "\n",
        "    for class_name in class_names:\n",
        "        class_src_dir = os.path.join(src_dir, class_name)\n",
        "        class_dest_dir = os.path.join(dest_dir, class_name)\n",
        "        os.makedirs(class_dest_dir, exist_ok=True)\n",
        "\n",
        "        for file in tqdm(os.listdir(class_src_dir), desc=f\"Processing {class_name}\"):\n",
        "            img_path = os.path.join(class_src_dir, file)\n",
        "            if file.lower().endswith(('.png', '.jpg', '.jpeg', '.gif', '.bmp', '.webp')):\n",
        "                image = cv2.imread(img_path)\n",
        "                if image is not None:\n",
        "                    # Copy original file to destination\n",
        "                    shutil.copy(img_path, class_dest_dir)\n",
        "\n",
        "                    # Resize for augmentation\n",
        "                    image = cv2.resize(image, img_size)\n",
        "                    image = np.expand_dims(image, axis=0)\n",
        "                    image_gen = data_gen.flow(image, batch_size=1, save_to_dir=class_dest_dir,\n",
        "                                              save_prefix=save_prefix, save_format='jpg')\n",
        "\n",
        "                    # Generate and save augmented images\n",
        "                    for _ in range(num_augmented):\n",
        "                        next(image_gen)"
      ],
      "metadata": {
        "id": "cgiTtbKOPKYP"
      },
      "execution_count": 6,
      "outputs": []
    },
    {
      "cell_type": "code",
      "source": [
        "# Copy and augment data for train, validation, and test directories\n",
        "copy_and_augment_data(train_dir, aug_train_dir, IMG_SIZE, data_gen, num_augmented=2)\n",
        "copy_and_augment_data(val_dir, aug_val_dir, IMG_SIZE, data_gen, num_augmented=2)\n",
        "copy_and_augment_data(test_dir, aug_test_dir, IMG_SIZE, data_gen, num_augmented=2)\n",
        "\n",
        "print(\"Data copy and augmentation completed.\")"
      ],
      "metadata": {
        "id": "fGKKvpbNPOTT",
        "colab": {
          "base_uri": "https://localhost:8080/"
        },
        "outputId": "f8e5c87a-a62a-4f84-fee8-6994e26cea62"
      },
      "execution_count": 7,
      "outputs": [
        {
          "output_type": "stream",
          "name": "stderr",
          "text": [
            "Processing kupu_raja_helena: 100%|██████████| 70/70 [01:16<00:00,  1.09s/it]\n",
            "Processing kupu_batik_cap: 100%|██████████| 70/70 [01:07<00:00,  1.04it/s]\n",
            "Processing kupu_harimau_kuning_hijau: 100%|██████████| 70/70 [00:43<00:00,  1.63it/s]\n",
            "Processing kupu_jarak: 100%|██████████| 70/70 [00:36<00:00,  1.93it/s]\n",
            "Processing kupu_jojo: 100%|██████████| 70/70 [01:12<00:00,  1.04s/it]\n",
            "Processing kupu_pantat_merah: 100%|██████████| 66/66 [00:56<00:00,  1.17it/s]\n",
            "Processing kupu_hijau_biru: 100%|██████████| 70/70 [01:02<00:00,  1.12it/s]\n",
            "Processing kupu_raja_limau: 100%|██████████| 70/70 [01:04<00:00,  1.08it/s]\n",
            "Processing kupu_raja_helena: 100%|██████████| 10/10 [00:09<00:00,  1.04it/s]\n",
            "Processing kupu_batik_cap: 100%|██████████| 10/10 [00:08<00:00,  1.20it/s]\n",
            "Processing kupu_harimau_kuning_hijau: 100%|██████████| 10/10 [00:05<00:00,  1.79it/s]\n",
            "Processing kupu_jarak: 100%|██████████| 10/10 [00:05<00:00,  1.98it/s]\n",
            "Processing kupu_jojo: 100%|██████████| 10/10 [00:10<00:00,  1.02s/it]\n",
            "Processing kupu_pantat_merah: 100%|██████████| 10/10 [00:08<00:00,  1.15it/s]\n",
            "Processing kupu_hijau_biru: 100%|██████████| 10/10 [00:08<00:00,  1.16it/s]\n",
            "Processing kupu_raja_limau: 100%|██████████| 10/10 [00:08<00:00,  1.18it/s]\n",
            "Processing kupu_raja_helena: 100%|██████████| 20/20 [00:20<00:00,  1.01s/it]\n",
            "Processing kupu_batik_cap: 100%|██████████| 20/20 [00:16<00:00,  1.18it/s]\n",
            "Processing kupu_harimau_kuning_hijau: 100%|██████████| 20/20 [00:11<00:00,  1.67it/s]\n",
            "Processing kupu_jarak: 100%|██████████| 20/20 [00:10<00:00,  1.95it/s]\n",
            "Processing kupu_jojo: 100%|██████████| 20/20 [00:18<00:00,  1.09it/s]\n",
            "Processing kupu_pantat_merah: 100%|██████████| 19/19 [00:17<00:00,  1.09it/s]\n",
            "Processing kupu_hijau_biru: 100%|██████████| 20/20 [00:17<00:00,  1.16it/s]\n",
            "Processing kupu_raja_limau: 100%|██████████| 20/20 [00:18<00:00,  1.07it/s]"
          ]
        },
        {
          "output_type": "stream",
          "name": "stdout",
          "text": [
            "Data copy and augmentation completed.\n"
          ]
        },
        {
          "output_type": "stream",
          "name": "stderr",
          "text": [
            "\n"
          ]
        }
      ]
    }
  ]
}